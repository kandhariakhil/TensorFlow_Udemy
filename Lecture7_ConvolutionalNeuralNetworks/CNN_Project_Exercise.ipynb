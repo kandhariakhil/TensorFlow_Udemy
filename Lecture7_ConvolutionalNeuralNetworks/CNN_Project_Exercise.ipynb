{
 "cells": [
  {
   "cell_type": "code",
   "execution_count": 1,
   "metadata": {},
   "outputs": [],
   "source": [
    "#File path as a string here\n",
    "CIFAR_DIR = 'cifar-10-batches-py/'"
   ]
  },
  {
   "cell_type": "code",
   "execution_count": 2,
   "metadata": {},
   "outputs": [],
   "source": [
    "#Code that will open the file, as each file is 'pickled', and return a dictionary\n",
    "def unpickle(file):\n",
    "    import pickle\n",
    "    with open(file, 'rb') as fo:\n",
    "        cifar_dict = pickle.load(fo,encoding='bytes')\n",
    "    return cifar_dict"
   ]
  },
  {
   "cell_type": "code",
   "execution_count": 3,
   "metadata": {},
   "outputs": [],
   "source": [
    "#List of directory names, found in the cifar-10-batches folder:\n",
    "dirs = ['batches.meta','data_batch_1','data_batch_2','data_batch_3','data_batch_4','data_batch_5','test_batch']"
   ]
  },
  {
   "cell_type": "code",
   "execution_count": 4,
   "metadata": {},
   "outputs": [],
   "source": [
    "#Corresponding all data 0 to 6\n",
    "all_data = [0,1,2,3,4,5,6]"
   ]
  },
  {
   "cell_type": "code",
   "execution_count": 5,
   "metadata": {},
   "outputs": [],
   "source": [
    "#Unpickle all the list\n",
    "for i,direc in zip(all_data,dirs):\n",
    "    all_data[i] = unpickle(CIFAR_DIR+direc)\n",
    "    "
   ]
  },
  {
   "cell_type": "code",
   "execution_count": 6,
   "metadata": {},
   "outputs": [],
   "source": [
    "batch_meta = all_data[0]\n",
    "data_batch1 = all_data[1]\n",
    "data_batch2 = all_data[2]\n",
    "data_batch3 = all_data[3]\n",
    "data_batch4 = all_data[4]\n",
    "data_batch5 = all_data[5]\n",
    "test_data = all_data[6]"
   ]
  },
  {
   "cell_type": "code",
   "execution_count": 7,
   "metadata": {},
   "outputs": [
    {
     "data": {
      "text/plain": [
       "{b'label_names': [b'airplane',\n",
       "  b'automobile',\n",
       "  b'bird',\n",
       "  b'cat',\n",
       "  b'deer',\n",
       "  b'dog',\n",
       "  b'frog',\n",
       "  b'horse',\n",
       "  b'ship',\n",
       "  b'truck'],\n",
       " b'num_cases_per_batch': 10000,\n",
       " b'num_vis': 3072}"
      ]
     },
     "execution_count": 7,
     "metadata": {},
     "output_type": "execute_result"
    }
   ],
   "source": [
    "batch_meta"
   ]
  },
  {
   "cell_type": "code",
   "execution_count": 8,
   "metadata": {},
   "outputs": [
    {
     "data": {
      "text/plain": [
       "dict_keys([b'filenames', b'labels', b'data', b'batch_label'])"
      ]
     },
     "execution_count": 8,
     "metadata": {},
     "output_type": "execute_result"
    }
   ],
   "source": [
    "data_batch1.keys()"
   ]
  },
  {
   "cell_type": "code",
   "execution_count": 9,
   "metadata": {},
   "outputs": [],
   "source": [
    "import matplotlib.pyplot as plt\n",
    "%matplotlib inline\n",
    "import numpy as np"
   ]
  },
  {
   "cell_type": "code",
   "execution_count": 10,
   "metadata": {},
   "outputs": [],
   "source": [
    "X = data_batch1[b'data']"
   ]
  },
  {
   "cell_type": "code",
   "execution_count": 11,
   "metadata": {},
   "outputs": [
    {
     "data": {
      "text/plain": [
       "(10000, 3072)"
      ]
     },
     "execution_count": 11,
     "metadata": {},
     "output_type": "execute_result"
    }
   ],
   "source": [
    "X.shape"
   ]
  },
  {
   "cell_type": "code",
   "execution_count": 12,
   "metadata": {},
   "outputs": [],
   "source": [
    "#Follow up on the transpose.\n",
    "X = X.reshape(10000, 3, 32, 32).transpose(0,2,3,1).astype('uint8')"
   ]
  },
  {
   "cell_type": "code",
   "execution_count": 13,
   "metadata": {},
   "outputs": [
    {
     "data": {
      "text/plain": [
       "(32, 32, 3)"
      ]
     },
     "execution_count": 13,
     "metadata": {},
     "output_type": "execute_result"
    }
   ],
   "source": [
    "X[0].shape"
   ]
  },
  {
   "cell_type": "code",
   "execution_count": 14,
   "metadata": {},
   "outputs": [
    {
     "data": {
      "text/plain": [
       "<matplotlib.image.AxesImage at 0x7fa62c175eb8>"
      ]
     },
     "execution_count": 14,
     "metadata": {},
     "output_type": "execute_result"
    },
    {
     "data": {
      "image/png": "[encoded data removed]",
      "text/plain": [
       "<Figure size 432x288 with 1 Axes>"
      ]
     },
     "metadata": {
      "needs_background": "light"
     },
     "output_type": "display_data"
    }
   ],
   "source": [
    "plt.imshow(X[0])"
   ]
  },
  {
   "cell_type": "code",
   "execution_count": 15,
   "metadata": {},
   "outputs": [
    {
     "data": {
      "text/plain": [
       "(10000, 3072)"
      ]
     },
     "execution_count": 15,
     "metadata": {},
     "output_type": "execute_result"
    }
   ],
   "source": [
    "#Reading image in depth:\n",
    "\n",
    "X = data_batch1[b'data']\n",
    "X.shape"
   ]
  },
  {
   "cell_type": "code",
   "execution_count": 16,
   "metadata": {},
   "outputs": [],
   "source": [
    "all_images = X.reshape(10000,3,32,32) #Reshape 10000 images into 3 color channels, 32x32 pixels"
   ]
  },
  {
   "cell_type": "code",
   "execution_count": 17,
   "metadata": {},
   "outputs": [],
   "source": [
    "sample = all_images[0]"
   ]
  },
  {
   "cell_type": "code",
   "execution_count": 18,
   "metadata": {},
   "outputs": [
    {
     "data": {
      "text/plain": [
       "(3, 32, 32)"
      ]
     },
     "execution_count": 18,
     "metadata": {},
     "output_type": "execute_result"
    }
   ],
   "source": [
    "sample.shape"
   ]
  },
  {
   "cell_type": "code",
   "execution_count": 19,
   "metadata": {},
   "outputs": [
    {
     "data": {
      "text/plain": [
       "array([[[ 59,  62,  63],\n",
       "        [ 43,  46,  45],\n",
       "        [ 50,  48,  43],\n",
       "        ...,\n",
       "        [158, 132, 108],\n",
       "        [152, 125, 102],\n",
       "        [148, 124, 103]],\n",
       "\n",
       "       [[ 16,  20,  20],\n",
       "        [  0,   0,   0],\n",
       "        [ 18,   8,   0],\n",
       "        ...,\n",
       "        [123,  88,  55],\n",
       "        [119,  83,  50],\n",
       "        [122,  87,  57]],\n",
       "\n",
       "       [[ 25,  24,  21],\n",
       "        [ 16,   7,   0],\n",
       "        [ 49,  27,   8],\n",
       "        ...,\n",
       "        [118,  84,  50],\n",
       "        [120,  84,  50],\n",
       "        [109,  73,  42]],\n",
       "\n",
       "       ...,\n",
       "\n",
       "       [[208, 170,  96],\n",
       "        [201, 153,  34],\n",
       "        [198, 161,  26],\n",
       "        ...,\n",
       "        [160, 133,  70],\n",
       "        [ 56,  31,   7],\n",
       "        [ 53,  34,  20]],\n",
       "\n",
       "       [[180, 139,  96],\n",
       "        [173, 123,  42],\n",
       "        [186, 144,  30],\n",
       "        ...,\n",
       "        [184, 148,  94],\n",
       "        [ 97,  62,  34],\n",
       "        [ 83,  53,  34]],\n",
       "\n",
       "       [[177, 144, 116],\n",
       "        [168, 129,  94],\n",
       "        [179, 142,  87],\n",
       "        ...,\n",
       "        [216, 184, 140],\n",
       "        [151, 118,  84],\n",
       "        [123,  92,  72]]], dtype=uint8)"
      ]
     },
     "execution_count": 19,
     "metadata": {},
     "output_type": "execute_result"
    }
   ],
   "source": [
    "#Plt imshow requires the image to be 32x32 pixels and 3 color channels: (32,32,3)\n",
    "#To shift the arrays from (3,32,32) -> (32,32,3). Shift left using axis of transpose\n",
    "sample.transpose(1,2,0)"
   ]
  },
  {
   "cell_type": "code",
   "execution_count": 20,
   "metadata": {},
   "outputs": [],
   "source": [
    "X = X.reshape(10000, 3, 32, 32).transpose(0,2,3,1).astype('uint8')"
   ]
  },
  {
   "cell_type": "code",
   "execution_count": 21,
   "metadata": {},
   "outputs": [
    {
     "data": {
      "text/plain": [
       "<matplotlib.image.AxesImage at 0x7fa62c166d68>"
      ]
     },
     "execution_count": 21,
     "metadata": {},
     "output_type": "execute_result"
    },
    {
     "data": {
      "image/png": "[encoded data removed]",
      "text/plain": [
       "<Figure size 432x288 with 1 Axes>"
      ]
     },
     "metadata": {
      "needs_background": "light"
     },
     "output_type": "display_data"
    }
   ],
   "source": [
    "plt.imshow(X[5220])"
   ]
  },
  {
   "cell_type": "code",
   "execution_count": 22,
   "metadata": {},
   "outputs": [],
   "source": [
    "def one_hot_encode(vec,vals=10):\n",
    "    '''For use to one-hot encode the 10 possible labels'''\n",
    "    n = len(vec)\n",
    "    out = np.zeros((n,vals))\n",
    "    out[range(n),vec] = 1\n",
    "    return out"
   ]
  },
  {
   "cell_type": "code",
   "execution_count": 23,
   "metadata": {},
   "outputs": [
    {
     "name": "stdout",
     "output_type": "stream",
     "text": [
      "range(0, 5)\n"
     ]
    }
   ],
   "source": [
    "print(range(5))"
   ]
  },
  {
   "cell_type": "code",
   "execution_count": 24,
   "metadata": {},
   "outputs": [
    {
     "name": "stdout",
     "output_type": "stream",
     "text": [
      "[[0. 1. 0.]\n",
      " [0. 0. 1.]\n",
      " [1. 0. 0.]]\n"
     ]
    }
   ],
   "source": [
    "vec = [1,2,0]\n",
    "n = len(vec)\n",
    "out = np.zeros((n,3))\n",
    "out[range(n),vec] = 1\n",
    "print(out)"
   ]
  },
  {
   "cell_type": "code",
   "execution_count": 33,
   "metadata": {},
   "outputs": [],
   "source": [
    "class CifarHelper():\n",
    "    def __init__(self):\n",
    "        self.i = 0\n",
    "        \n",
    "        #Grab list of all data batches for training\n",
    "        self.all_train_batches = [data_batch1, data_batch2,data_batch3,data_batch4,data_batch5]\n",
    "        \n",
    "        #Grab list of all the test batches\n",
    "        self.test_batch = [test_data]\n",
    "        \n",
    "        #Initialize some empty variables for laater on\n",
    "        \n",
    "        self.training_images = None\n",
    "        self.training_labels = None\n",
    "        \n",
    "        self.test_images = None\n",
    "        self.test_labels = None\n",
    "        \n",
    "    def set_up_images(self):\n",
    "        \n",
    "        print(\"Setting up Training Images and Labels\")\n",
    "        #This will reshape each array for all the batches using reshape and tranpose as\n",
    "        #done earlier for plotting purposes\n",
    "        \n",
    "        #Vertically stacks the training images       \n",
    "        self.training_images = np.vstack([d[b\"data\"] for d in self.all_train_batches])\n",
    "        train_len = len(self.training_images)\n",
    "        #Reshape and normalize training images RGB color from 0 - 255 to 0 - 1\n",
    "        self.training_images = self.training_images.reshape(train_len,3,32,32).transpose(0,2,3,1)/255\n",
    "        #One hotencode training labels\n",
    "        self.training_labels = one_hot_encode(np.hstack([d[b\"labels\"] for d in self.all_train_batches]),10)\n",
    "        \n",
    "        print(\"Setting up Test Images and Labels\")\n",
    "\n",
    "        #Vertically stacks test images\n",
    "        self.test_images = np.vstack([d[b\"data\"] for d in self.test_batch])\n",
    "        test_len = len(self.test_images)\n",
    "        #Reshape and normalize test images\n",
    "        self.test_images = self.test_images.reshape(test_len,3,32,32).transpose(0,2,3,1)/255\n",
    "        self.test_labels = one_hot_encode(np.hstack([d[b\"labels\"] for d in self.test_batch]),10)\n",
    "        \n",
    "    def next_batch(self, batch_size):\n",
    "        #Selecting images of given batch size after the preprocessing the images\n",
    "        x = self.training_images[self.i:self.i+batch_size].reshape(batch_size,32,32,3)\n",
    "        y = self.training_images[self.i:self.i+batch_size]\n",
    "        self.i = (self.i+batch_size)%len(self.training_images)\n",
    "        return x, y\n",
    "        "
   ]
  },
  {
   "cell_type": "code",
   "execution_count": 34,
   "metadata": {},
   "outputs": [],
   "source": [
    "ch = CifarHelper()"
   ]
  },
  {
   "cell_type": "code",
   "execution_count": 35,
   "metadata": {},
   "outputs": [
    {
     "name": "stdout",
     "output_type": "stream",
     "text": [
      "Setting up Training Images and Labels\n",
      "Setting up Test Images and Labels\n"
     ]
    }
   ],
   "source": [
    "ch.set_up_images()"
   ]
  },
  {
   "cell_type": "code",
   "execution_count": 36,
   "metadata": {},
   "outputs": [],
   "source": [
    "import tensorflow as tf"
   ]
  },
  {
   "cell_type": "code",
   "execution_count": 37,
   "metadata": {},
   "outputs": [],
   "source": [
    "batch = ch.next_batch(100)"
   ]
  },
  {
   "cell_type": "code",
   "execution_count": 47,
   "metadata": {},
   "outputs": [
    {
     "data": {
      "text/plain": [
       "2"
      ]
     },
     "execution_count": 47,
     "metadata": {},
     "output_type": "execute_result"
    }
   ],
   "source": [
    "len(batch)"
   ]
  },
  {
   "cell_type": "code",
   "execution_count": 49,
   "metadata": {},
   "outputs": [
    {
     "data": {
      "text/plain": [
       "(array([[[[0.23137255, 0.24313725, 0.24705882],\n",
       "          [0.16862745, 0.18039216, 0.17647059],\n",
       "          [0.19607843, 0.18823529, 0.16862745],\n",
       "          ...,\n",
       "          [0.61960784, 0.51764706, 0.42352941],\n",
       "          [0.59607843, 0.49019608, 0.4       ],\n",
       "          [0.58039216, 0.48627451, 0.40392157]],\n",
       " \n",
       "         [[0.0627451 , 0.07843137, 0.07843137],\n",
       "          [0.        , 0.        , 0.        ],\n",
       "          [0.07058824, 0.03137255, 0.        ],\n",
       "          ...,\n",
       "          [0.48235294, 0.34509804, 0.21568627],\n",
       "          [0.46666667, 0.3254902 , 0.19607843],\n",
       "          [0.47843137, 0.34117647, 0.22352941]],\n",
       " \n",
       "         [[0.09803922, 0.09411765, 0.08235294],\n",
       "          [0.0627451 , 0.02745098, 0.        ],\n",
       "          [0.19215686, 0.10588235, 0.03137255],\n",
       "          ...,\n",
       "          [0.4627451 , 0.32941176, 0.19607843],\n",
       "          [0.47058824, 0.32941176, 0.19607843],\n",
       "          [0.42745098, 0.28627451, 0.16470588]],\n",
       " \n",
       "         ...,\n",
       " \n",
       "         [[0.81568627, 0.66666667, 0.37647059],\n",
       "          [0.78823529, 0.6       , 0.13333333],\n",
       "          [0.77647059, 0.63137255, 0.10196078],\n",
       "          ...,\n",
       "          [0.62745098, 0.52156863, 0.2745098 ],\n",
       "          [0.21960784, 0.12156863, 0.02745098],\n",
       "          [0.20784314, 0.13333333, 0.07843137]],\n",
       " \n",
       "         [[0.70588235, 0.54509804, 0.37647059],\n",
       "          [0.67843137, 0.48235294, 0.16470588],\n",
       "          [0.72941176, 0.56470588, 0.11764706],\n",
       "          ...,\n",
       "          [0.72156863, 0.58039216, 0.36862745],\n",
       "          [0.38039216, 0.24313725, 0.13333333],\n",
       "          [0.3254902 , 0.20784314, 0.13333333]],\n",
       " \n",
       "         [[0.69411765, 0.56470588, 0.45490196],\n",
       "          [0.65882353, 0.50588235, 0.36862745],\n",
       "          [0.70196078, 0.55686275, 0.34117647],\n",
       "          ...,\n",
       "          [0.84705882, 0.72156863, 0.54901961],\n",
       "          [0.59215686, 0.4627451 , 0.32941176],\n",
       "          [0.48235294, 0.36078431, 0.28235294]]],\n",
       " \n",
       " \n",
       "        [[[0.60392157, 0.69411765, 0.73333333],\n",
       "          [0.49411765, 0.5372549 , 0.53333333],\n",
       "          [0.41176471, 0.40784314, 0.37254902],\n",
       "          ...,\n",
       "          [0.35686275, 0.37254902, 0.27843137],\n",
       "          [0.34117647, 0.35294118, 0.27843137],\n",
       "          [0.30980392, 0.31764706, 0.2745098 ]],\n",
       " \n",
       "         [[0.54901961, 0.62745098, 0.6627451 ],\n",
       "          [0.56862745, 0.6       , 0.60392157],\n",
       "          [0.49019608, 0.49019608, 0.4627451 ],\n",
       "          ...,\n",
       "          [0.37647059, 0.38823529, 0.30588235],\n",
       "          [0.30196078, 0.31372549, 0.24313725],\n",
       "          [0.27843137, 0.28627451, 0.23921569]],\n",
       " \n",
       "         [[0.54901961, 0.60784314, 0.64313725],\n",
       "          [0.54509804, 0.57254902, 0.58431373],\n",
       "          [0.45098039, 0.45098039, 0.43921569],\n",
       "          ...,\n",
       "          [0.30980392, 0.32156863, 0.25098039],\n",
       "          [0.26666667, 0.2745098 , 0.21568627],\n",
       "          [0.2627451 , 0.27058824, 0.21568627]],\n",
       " \n",
       "         ...,\n",
       " \n",
       "         [[0.68627451, 0.65490196, 0.65098039],\n",
       "          [0.61176471, 0.60392157, 0.62745098],\n",
       "          [0.60392157, 0.62745098, 0.66666667],\n",
       "          ...,\n",
       "          [0.16470588, 0.13333333, 0.14117647],\n",
       "          [0.23921569, 0.20784314, 0.22352941],\n",
       "          [0.36470588, 0.3254902 , 0.35686275]],\n",
       " \n",
       "         [[0.64705882, 0.60392157, 0.50196078],\n",
       "          [0.61176471, 0.59607843, 0.50980392],\n",
       "          [0.62352941, 0.63137255, 0.55686275],\n",
       "          ...,\n",
       "          [0.40392157, 0.36470588, 0.37647059],\n",
       "          [0.48235294, 0.44705882, 0.47058824],\n",
       "          [0.51372549, 0.4745098 , 0.51372549]],\n",
       " \n",
       "         [[0.63921569, 0.58039216, 0.47058824],\n",
       "          [0.61960784, 0.58039216, 0.47843137],\n",
       "          [0.63921569, 0.61176471, 0.52156863],\n",
       "          ...,\n",
       "          [0.56078431, 0.52156863, 0.54509804],\n",
       "          [0.56078431, 0.5254902 , 0.55686275],\n",
       "          [0.56078431, 0.52156863, 0.56470588]]],\n",
       " \n",
       " \n",
       "        [[[1.        , 1.        , 1.        ],\n",
       "          [0.99215686, 0.99215686, 0.99215686],\n",
       "          [0.99215686, 0.99215686, 0.99215686],\n",
       "          ...,\n",
       "          [0.99215686, 0.99215686, 0.99215686],\n",
       "          [0.99215686, 0.99215686, 0.99215686],\n",
       "          [0.99215686, 0.99215686, 0.99215686]],\n",
       " \n",
       "         [[1.        , 1.        , 1.        ],\n",
       "          [1.        , 1.        , 1.        ],\n",
       "          [1.        , 1.        , 1.        ],\n",
       "          ...,\n",
       "          [1.        , 1.        , 1.        ],\n",
       "          [1.        , 1.        , 1.        ],\n",
       "          [1.        , 1.        , 1.        ]],\n",
       " \n",
       "         [[1.        , 1.        , 1.        ],\n",
       "          [0.99607843, 0.99607843, 0.99607843],\n",
       "          [0.99607843, 0.99607843, 0.99607843],\n",
       "          ...,\n",
       "          [0.99607843, 0.99607843, 0.99607843],\n",
       "          [0.99607843, 0.99607843, 0.99607843],\n",
       "          [0.99607843, 0.99607843, 0.99607843]],\n",
       " \n",
       "         ...,\n",
       " \n",
       "         [[0.44313725, 0.47058824, 0.43921569],\n",
       "          [0.43529412, 0.4627451 , 0.43529412],\n",
       "          [0.41176471, 0.43921569, 0.41568627],\n",
       "          ...,\n",
       "          [0.28235294, 0.31764706, 0.31372549],\n",
       "          [0.28235294, 0.31372549, 0.30980392],\n",
       "          [0.28235294, 0.31372549, 0.30980392]],\n",
       " \n",
       "         [[0.43529412, 0.4627451 , 0.43137255],\n",
       "          [0.40784314, 0.43529412, 0.40784314],\n",
       "          [0.38823529, 0.41568627, 0.38431373],\n",
       "          ...,\n",
       "          [0.26666667, 0.29411765, 0.28627451],\n",
       "          [0.2745098 , 0.29803922, 0.29411765],\n",
       "          [0.30588235, 0.32941176, 0.32156863]],\n",
       " \n",
       "         [[0.41568627, 0.44313725, 0.41176471],\n",
       "          [0.38823529, 0.41568627, 0.38431373],\n",
       "          [0.37254902, 0.4       , 0.36862745],\n",
       "          ...,\n",
       "          [0.30588235, 0.33333333, 0.3254902 ],\n",
       "          [0.30980392, 0.33333333, 0.3254902 ],\n",
       "          [0.31372549, 0.3372549 , 0.32941176]]],\n",
       " \n",
       " \n",
       "        ...,\n",
       " \n",
       " \n",
       "        [[[0.12941176, 0.17254902, 0.10588235],\n",
       "          [0.11372549, 0.17254902, 0.12156863],\n",
       "          [0.1254902 , 0.17647059, 0.13333333],\n",
       "          ...,\n",
       "          [0.61568627, 0.77254902, 0.86666667],\n",
       "          [0.63529412, 0.78039216, 0.84705882],\n",
       "          [0.62745098, 0.76078431, 0.83529412]],\n",
       " \n",
       "         [[0.09803922, 0.15686275, 0.09411765],\n",
       "          [0.09411765, 0.15686275, 0.10588235],\n",
       "          [0.09019608, 0.14117647, 0.11372549],\n",
       "          ...,\n",
       "          [0.68235294, 0.81960784, 0.89019608],\n",
       "          [0.65490196, 0.78039216, 0.85098039],\n",
       "          [0.64705882, 0.77647059, 0.8627451 ]],\n",
       " \n",
       "         [[0.21568627, 0.21960784, 0.18431373],\n",
       "          [0.18431373, 0.21960784, 0.18039216],\n",
       "          [0.20784314, 0.23921569, 0.20392157],\n",
       "          ...,\n",
       "          [0.50588235, 0.63529412, 0.64705882],\n",
       "          [0.43137255, 0.5372549 , 0.52156863],\n",
       "          [0.48235294, 0.6       , 0.60392157]],\n",
       " \n",
       "         ...,\n",
       " \n",
       "         [[0.41568627, 0.38039216, 0.23529412],\n",
       "          [0.40392157, 0.35686275, 0.22745098],\n",
       "          [0.33333333, 0.39215686, 0.20784314],\n",
       "          ...,\n",
       "          [0.30588235, 0.35686275, 0.20392157],\n",
       "          [0.21176471, 0.25098039, 0.14117647],\n",
       "          [0.17254902, 0.21960784, 0.12156863]],\n",
       " \n",
       "         [[0.38039216, 0.35686275, 0.23137255],\n",
       "          [0.36078431, 0.38039216, 0.22352941],\n",
       "          [0.34509804, 0.42352941, 0.23921569],\n",
       "          ...,\n",
       "          [0.37647059, 0.41960784, 0.23137255],\n",
       "          [0.31764706, 0.36862745, 0.18431373],\n",
       "          [0.27843137, 0.34509804, 0.16078431]],\n",
       " \n",
       "         [[0.41568627, 0.46666667, 0.35686275],\n",
       "          [0.50196078, 0.55294118, 0.45098039],\n",
       "          [0.55686275, 0.61960784, 0.5372549 ],\n",
       "          ...,\n",
       "          [0.39215686, 0.42352941, 0.24705882],\n",
       "          [0.31764706, 0.36862745, 0.18431373],\n",
       "          [0.27843137, 0.35294118, 0.15686275]]],\n",
       " \n",
       " \n",
       "        [[[0.35294118, 0.30196078, 0.23137255],\n",
       "          [0.36862745, 0.31764706, 0.25098039],\n",
       "          [0.34117647, 0.31764706, 0.25490196],\n",
       "          ...,\n",
       "          [0.18039216, 0.17254902, 0.1372549 ],\n",
       "          [0.20784314, 0.17647059, 0.14901961],\n",
       "          [0.22352941, 0.18039216, 0.14901961]],\n",
       " \n",
       "         [[0.37647059, 0.36078431, 0.26666667],\n",
       "          [0.39607843, 0.32941176, 0.24705882],\n",
       "          [0.37254902, 0.31372549, 0.25882353],\n",
       "          ...,\n",
       "          [0.23529412, 0.2       , 0.17254902],\n",
       "          [0.28235294, 0.23529412, 0.19607843],\n",
       "          [0.27843137, 0.21960784, 0.17647059]],\n",
       " \n",
       "         [[0.33333333, 0.34117647, 0.25882353],\n",
       "          [0.44313725, 0.4       , 0.29411765],\n",
       "          [0.45098039, 0.39607843, 0.29803922],\n",
       "          ...,\n",
       "          [0.35294118, 0.32941176, 0.22352941],\n",
       "          [0.37647059, 0.34117647, 0.23529412],\n",
       "          [0.35686275, 0.30980392, 0.21568627]],\n",
       " \n",
       "         ...,\n",
       " \n",
       "         [[0.4       , 0.41176471, 0.34509804],\n",
       "          [0.23921569, 0.27058824, 0.18431373],\n",
       "          [0.27058824, 0.29019608, 0.20784314],\n",
       "          ...,\n",
       "          [0.61568627, 0.55686275, 0.37254902],\n",
       "          [0.59607843, 0.5372549 , 0.36862745],\n",
       "          [0.6627451 , 0.59607843, 0.37254902]],\n",
       " \n",
       "         [[0.39607843, 0.37647059, 0.27058824],\n",
       "          [0.27058824, 0.25882353, 0.20392157],\n",
       "          [0.25098039, 0.26666667, 0.20784314],\n",
       "          ...,\n",
       "          [0.51372549, 0.49019608, 0.39215686],\n",
       "          [0.48235294, 0.45882353, 0.35686275],\n",
       "          [0.45098039, 0.42745098, 0.30980392]],\n",
       " \n",
       "         [[0.35686275, 0.3372549 , 0.23921569],\n",
       "          [0.30588235, 0.28235294, 0.22745098],\n",
       "          [0.34117647, 0.3372549 , 0.26666667],\n",
       "          ...,\n",
       "          [0.52941176, 0.49411765, 0.33333333],\n",
       "          [0.47058824, 0.45490196, 0.31764706],\n",
       "          [0.4       , 0.37647059, 0.31372549]]],\n",
       " \n",
       " \n",
       "        [[[0.24313725, 0.25098039, 0.17254902],\n",
       "          [0.19607843, 0.19607843, 0.10196078],\n",
       "          [0.18039216, 0.17254902, 0.0745098 ],\n",
       "          ...,\n",
       "          [0.65490196, 0.6745098 , 0.27058824],\n",
       "          [0.71764706, 0.72156863, 0.29803922],\n",
       "          [0.5372549 , 0.53333333, 0.28235294]],\n",
       " \n",
       "         [[0.24705882, 0.25490196, 0.14509804],\n",
       "          [0.21568627, 0.20784314, 0.10196078],\n",
       "          [0.20392157, 0.19607843, 0.10588235],\n",
       "          ...,\n",
       "          [0.63921569, 0.6627451 , 0.23921569],\n",
       "          [0.67058824, 0.68235294, 0.29411765],\n",
       "          [0.56862745, 0.57254902, 0.30196078]],\n",
       " \n",
       "         [[0.22745098, 0.24313725, 0.14117647],\n",
       "          [0.25098039, 0.25882353, 0.14509804],\n",
       "          [0.21960784, 0.23529412, 0.14509804],\n",
       "          ...,\n",
       "          [0.6       , 0.60784314, 0.24313725],\n",
       "          [0.58823529, 0.60392157, 0.25098039],\n",
       "          [0.48235294, 0.50196078, 0.22352941]],\n",
       " \n",
       "         ...,\n",
       " \n",
       "         [[0.6745098 , 0.52941176, 0.38823529],\n",
       "          [0.56078431, 0.43137255, 0.32941176],\n",
       "          [0.50980392, 0.21960784, 0.16470588],\n",
       "          ...,\n",
       "          [0.36862745, 0.29411765, 0.21960784],\n",
       "          [0.55294118, 0.42352941, 0.3372549 ],\n",
       "          [0.54509804, 0.41176471, 0.31764706]],\n",
       " \n",
       "         [[0.71764706, 0.57254902, 0.45882353],\n",
       "          [0.58823529, 0.4627451 , 0.37254902],\n",
       "          [0.31372549, 0.25098039, 0.17254902],\n",
       "          ...,\n",
       "          [0.31764706, 0.28235294, 0.23529412],\n",
       "          [0.52941176, 0.4627451 , 0.38431373],\n",
       "          [0.56078431, 0.49019608, 0.43137255]],\n",
       " \n",
       "         [[0.81960784, 0.68235294, 0.56470588],\n",
       "          [0.71372549, 0.59215686, 0.48235294],\n",
       "          [0.54509804, 0.42745098, 0.3254902 ],\n",
       "          ...,\n",
       "          [0.23137255, 0.21176471, 0.18431373],\n",
       "          [0.50980392, 0.46666667, 0.43529412],\n",
       "          [0.6627451 , 0.61176471, 0.62745098]]]]),\n",
       " array([[[[0.23137255, 0.24313725, 0.24705882],\n",
       "          [0.16862745, 0.18039216, 0.17647059],\n",
       "          [0.19607843, 0.18823529, 0.16862745],\n",
       "          ...,\n",
       "          [0.61960784, 0.51764706, 0.42352941],\n",
       "          [0.59607843, 0.49019608, 0.4       ],\n",
       "          [0.58039216, 0.48627451, 0.40392157]],\n",
       " \n",
       "         [[0.0627451 , 0.07843137, 0.07843137],\n",
       "          [0.        , 0.        , 0.        ],\n",
       "          [0.07058824, 0.03137255, 0.        ],\n",
       "          ...,\n",
       "          [0.48235294, 0.34509804, 0.21568627],\n",
       "          [0.46666667, 0.3254902 , 0.19607843],\n",
       "          [0.47843137, 0.34117647, 0.22352941]],\n",
       " \n",
       "         [[0.09803922, 0.09411765, 0.08235294],\n",
       "          [0.0627451 , 0.02745098, 0.        ],\n",
       "          [0.19215686, 0.10588235, 0.03137255],\n",
       "          ...,\n",
       "          [0.4627451 , 0.32941176, 0.19607843],\n",
       "          [0.47058824, 0.32941176, 0.19607843],\n",
       "          [0.42745098, 0.28627451, 0.16470588]],\n",
       " \n",
       "         ...,\n",
       " \n",
       "         [[0.81568627, 0.66666667, 0.37647059],\n",
       "          [0.78823529, 0.6       , 0.13333333],\n",
       "          [0.77647059, 0.63137255, 0.10196078],\n",
       "          ...,\n",
       "          [0.62745098, 0.52156863, 0.2745098 ],\n",
       "          [0.21960784, 0.12156863, 0.02745098],\n",
       "          [0.20784314, 0.13333333, 0.07843137]],\n",
       " \n",
       "         [[0.70588235, 0.54509804, 0.37647059],\n",
       "          [0.67843137, 0.48235294, 0.16470588],\n",
       "          [0.72941176, 0.56470588, 0.11764706],\n",
       "          ...,\n",
       "          [0.72156863, 0.58039216, 0.36862745],\n",
       "          [0.38039216, 0.24313725, 0.13333333],\n",
       "          [0.3254902 , 0.20784314, 0.13333333]],\n",
       " \n",
       "         [[0.69411765, 0.56470588, 0.45490196],\n",
       "          [0.65882353, 0.50588235, 0.36862745],\n",
       "          [0.70196078, 0.55686275, 0.34117647],\n",
       "          ...,\n",
       "          [0.84705882, 0.72156863, 0.54901961],\n",
       "          [0.59215686, 0.4627451 , 0.32941176],\n",
       "          [0.48235294, 0.36078431, 0.28235294]]],\n",
       " \n",
       " \n",
       "        [[[0.60392157, 0.69411765, 0.73333333],\n",
       "          [0.49411765, 0.5372549 , 0.53333333],\n",
       "          [0.41176471, 0.40784314, 0.37254902],\n",
       "          ...,\n",
       "          [0.35686275, 0.37254902, 0.27843137],\n",
       "          [0.34117647, 0.35294118, 0.27843137],\n",
       "          [0.30980392, 0.31764706, 0.2745098 ]],\n",
       " \n",
       "         [[0.54901961, 0.62745098, 0.6627451 ],\n",
       "          [0.56862745, 0.6       , 0.60392157],\n",
       "          [0.49019608, 0.49019608, 0.4627451 ],\n",
       "          ...,\n",
       "          [0.37647059, 0.38823529, 0.30588235],\n",
       "          [0.30196078, 0.31372549, 0.24313725],\n",
       "          [0.27843137, 0.28627451, 0.23921569]],\n",
       " \n",
       "         [[0.54901961, 0.60784314, 0.64313725],\n",
       "          [0.54509804, 0.57254902, 0.58431373],\n",
       "          [0.45098039, 0.45098039, 0.43921569],\n",
       "          ...,\n",
       "          [0.30980392, 0.32156863, 0.25098039],\n",
       "          [0.26666667, 0.2745098 , 0.21568627],\n",
       "          [0.2627451 , 0.27058824, 0.21568627]],\n",
       " \n",
       "         ...,\n",
       " \n",
       "         [[0.68627451, 0.65490196, 0.65098039],\n",
       "          [0.61176471, 0.60392157, 0.62745098],\n",
       "          [0.60392157, 0.62745098, 0.66666667],\n",
       "          ...,\n",
       "          [0.16470588, 0.13333333, 0.14117647],\n",
       "          [0.23921569, 0.20784314, 0.22352941],\n",
       "          [0.36470588, 0.3254902 , 0.35686275]],\n",
       " \n",
       "         [[0.64705882, 0.60392157, 0.50196078],\n",
       "          [0.61176471, 0.59607843, 0.50980392],\n",
       "          [0.62352941, 0.63137255, 0.55686275],\n",
       "          ...,\n",
       "          [0.40392157, 0.36470588, 0.37647059],\n",
       "          [0.48235294, 0.44705882, 0.47058824],\n",
       "          [0.51372549, 0.4745098 , 0.51372549]],\n",
       " \n",
       "         [[0.63921569, 0.58039216, 0.47058824],\n",
       "          [0.61960784, 0.58039216, 0.47843137],\n",
       "          [0.63921569, 0.61176471, 0.52156863],\n",
       "          ...,\n",
       "          [0.56078431, 0.52156863, 0.54509804],\n",
       "          [0.56078431, 0.5254902 , 0.55686275],\n",
       "          [0.56078431, 0.52156863, 0.56470588]]],\n",
       " \n",
       " \n",
       "        [[[1.        , 1.        , 1.        ],\n",
       "          [0.99215686, 0.99215686, 0.99215686],\n",
       "          [0.99215686, 0.99215686, 0.99215686],\n",
       "          ...,\n",
       "          [0.99215686, 0.99215686, 0.99215686],\n",
       "          [0.99215686, 0.99215686, 0.99215686],\n",
       "          [0.99215686, 0.99215686, 0.99215686]],\n",
       " \n",
       "         [[1.        , 1.        , 1.        ],\n",
       "          [1.        , 1.        , 1.        ],\n",
       "          [1.        , 1.        , 1.        ],\n",
       "          ...,\n",
       "          [1.        , 1.        , 1.        ],\n",
       "          [1.        , 1.        , 1.        ],\n",
       "          [1.        , 1.        , 1.        ]],\n",
       " \n",
       "         [[1.        , 1.        , 1.        ],\n",
       "          [0.99607843, 0.99607843, 0.99607843],\n",
       "          [0.99607843, 0.99607843, 0.99607843],\n",
       "          ...,\n",
       "          [0.99607843, 0.99607843, 0.99607843],\n",
       "          [0.99607843, 0.99607843, 0.99607843],\n",
       "          [0.99607843, 0.99607843, 0.99607843]],\n",
       " \n",
       "         ...,\n",
       " \n",
       "         [[0.44313725, 0.47058824, 0.43921569],\n",
       "          [0.43529412, 0.4627451 , 0.43529412],\n",
       "          [0.41176471, 0.43921569, 0.41568627],\n",
       "          ...,\n",
       "          [0.28235294, 0.31764706, 0.31372549],\n",
       "          [0.28235294, 0.31372549, 0.30980392],\n",
       "          [0.28235294, 0.31372549, 0.30980392]],\n",
       " \n",
       "         [[0.43529412, 0.4627451 , 0.43137255],\n",
       "          [0.40784314, 0.43529412, 0.40784314],\n",
       "          [0.38823529, 0.41568627, 0.38431373],\n",
       "          ...,\n",
       "          [0.26666667, 0.29411765, 0.28627451],\n",
       "          [0.2745098 , 0.29803922, 0.29411765],\n",
       "          [0.30588235, 0.32941176, 0.32156863]],\n",
       " \n",
       "         [[0.41568627, 0.44313725, 0.41176471],\n",
       "          [0.38823529, 0.41568627, 0.38431373],\n",
       "          [0.37254902, 0.4       , 0.36862745],\n",
       "          ...,\n",
       "          [0.30588235, 0.33333333, 0.3254902 ],\n",
       "          [0.30980392, 0.33333333, 0.3254902 ],\n",
       "          [0.31372549, 0.3372549 , 0.32941176]]],\n",
       " \n",
       " \n",
       "        ...,\n",
       " \n",
       " \n",
       "        [[[0.12941176, 0.17254902, 0.10588235],\n",
       "          [0.11372549, 0.17254902, 0.12156863],\n",
       "          [0.1254902 , 0.17647059, 0.13333333],\n",
       "          ...,\n",
       "          [0.61568627, 0.77254902, 0.86666667],\n",
       "          [0.63529412, 0.78039216, 0.84705882],\n",
       "          [0.62745098, 0.76078431, 0.83529412]],\n",
       " \n",
       "         [[0.09803922, 0.15686275, 0.09411765],\n",
       "          [0.09411765, 0.15686275, 0.10588235],\n",
       "          [0.09019608, 0.14117647, 0.11372549],\n",
       "          ...,\n",
       "          [0.68235294, 0.81960784, 0.89019608],\n",
       "          [0.65490196, 0.78039216, 0.85098039],\n",
       "          [0.64705882, 0.77647059, 0.8627451 ]],\n",
       " \n",
       "         [[0.21568627, 0.21960784, 0.18431373],\n",
       "          [0.18431373, 0.21960784, 0.18039216],\n",
       "          [0.20784314, 0.23921569, 0.20392157],\n",
       "          ...,\n",
       "          [0.50588235, 0.63529412, 0.64705882],\n",
       "          [0.43137255, 0.5372549 , 0.52156863],\n",
       "          [0.48235294, 0.6       , 0.60392157]],\n",
       " \n",
       "         ...,\n",
       " \n",
       "         [[0.41568627, 0.38039216, 0.23529412],\n",
       "          [0.40392157, 0.35686275, 0.22745098],\n",
       "          [0.33333333, 0.39215686, 0.20784314],\n",
       "          ...,\n",
       "          [0.30588235, 0.35686275, 0.20392157],\n",
       "          [0.21176471, 0.25098039, 0.14117647],\n",
       "          [0.17254902, 0.21960784, 0.12156863]],\n",
       " \n",
       "         [[0.38039216, 0.35686275, 0.23137255],\n",
       "          [0.36078431, 0.38039216, 0.22352941],\n",
       "          [0.34509804, 0.42352941, 0.23921569],\n",
       "          ...,\n",
       "          [0.37647059, 0.41960784, 0.23137255],\n",
       "          [0.31764706, 0.36862745, 0.18431373],\n",
       "          [0.27843137, 0.34509804, 0.16078431]],\n",
       " \n",
       "         [[0.41568627, 0.46666667, 0.35686275],\n",
       "          [0.50196078, 0.55294118, 0.45098039],\n",
       "          [0.55686275, 0.61960784, 0.5372549 ],\n",
       "          ...,\n",
       "          [0.39215686, 0.42352941, 0.24705882],\n",
       "          [0.31764706, 0.36862745, 0.18431373],\n",
       "          [0.27843137, 0.35294118, 0.15686275]]],\n",
       " \n",
       " \n",
       "        [[[0.35294118, 0.30196078, 0.23137255],\n",
       "          [0.36862745, 0.31764706, 0.25098039],\n",
       "          [0.34117647, 0.31764706, 0.25490196],\n",
       "          ...,\n",
       "          [0.18039216, 0.17254902, 0.1372549 ],\n",
       "          [0.20784314, 0.17647059, 0.14901961],\n",
       "          [0.22352941, 0.18039216, 0.14901961]],\n",
       " \n",
       "         [[0.37647059, 0.36078431, 0.26666667],\n",
       "          [0.39607843, 0.32941176, 0.24705882],\n",
       "          [0.37254902, 0.31372549, 0.25882353],\n",
       "          ...,\n",
       "          [0.23529412, 0.2       , 0.17254902],\n",
       "          [0.28235294, 0.23529412, 0.19607843],\n",
       "          [0.27843137, 0.21960784, 0.17647059]],\n",
       " \n",
       "         [[0.33333333, 0.34117647, 0.25882353],\n",
       "          [0.44313725, 0.4       , 0.29411765],\n",
       "          [0.45098039, 0.39607843, 0.29803922],\n",
       "          ...,\n",
       "          [0.35294118, 0.32941176, 0.22352941],\n",
       "          [0.37647059, 0.34117647, 0.23529412],\n",
       "          [0.35686275, 0.30980392, 0.21568627]],\n",
       " \n",
       "         ...,\n",
       " \n",
       "         [[0.4       , 0.41176471, 0.34509804],\n",
       "          [0.23921569, 0.27058824, 0.18431373],\n",
       "          [0.27058824, 0.29019608, 0.20784314],\n",
       "          ...,\n",
       "          [0.61568627, 0.55686275, 0.37254902],\n",
       "          [0.59607843, 0.5372549 , 0.36862745],\n",
       "          [0.6627451 , 0.59607843, 0.37254902]],\n",
       " \n",
       "         [[0.39607843, 0.37647059, 0.27058824],\n",
       "          [0.27058824, 0.25882353, 0.20392157],\n",
       "          [0.25098039, 0.26666667, 0.20784314],\n",
       "          ...,\n",
       "          [0.51372549, 0.49019608, 0.39215686],\n",
       "          [0.48235294, 0.45882353, 0.35686275],\n",
       "          [0.45098039, 0.42745098, 0.30980392]],\n",
       " \n",
       "         [[0.35686275, 0.3372549 , 0.23921569],\n",
       "          [0.30588235, 0.28235294, 0.22745098],\n",
       "          [0.34117647, 0.3372549 , 0.26666667],\n",
       "          ...,\n",
       "          [0.52941176, 0.49411765, 0.33333333],\n",
       "          [0.47058824, 0.45490196, 0.31764706],\n",
       "          [0.4       , 0.37647059, 0.31372549]]],\n",
       " \n",
       " \n",
       "        [[[0.24313725, 0.25098039, 0.17254902],\n",
       "          [0.19607843, 0.19607843, 0.10196078],\n",
       "          [0.18039216, 0.17254902, 0.0745098 ],\n",
       "          ...,\n",
       "          [0.65490196, 0.6745098 , 0.27058824],\n",
       "          [0.71764706, 0.72156863, 0.29803922],\n",
       "          [0.5372549 , 0.53333333, 0.28235294]],\n",
       " \n",
       "         [[0.24705882, 0.25490196, 0.14509804],\n",
       "          [0.21568627, 0.20784314, 0.10196078],\n",
       "          [0.20392157, 0.19607843, 0.10588235],\n",
       "          ...,\n",
       "          [0.63921569, 0.6627451 , 0.23921569],\n",
       "          [0.67058824, 0.68235294, 0.29411765],\n",
       "          [0.56862745, 0.57254902, 0.30196078]],\n",
       " \n",
       "         [[0.22745098, 0.24313725, 0.14117647],\n",
       "          [0.25098039, 0.25882353, 0.14509804],\n",
       "          [0.21960784, 0.23529412, 0.14509804],\n",
       "          ...,\n",
       "          [0.6       , 0.60784314, 0.24313725],\n",
       "          [0.58823529, 0.60392157, 0.25098039],\n",
       "          [0.48235294, 0.50196078, 0.22352941]],\n",
       " \n",
       "         ...,\n",
       " \n",
       "         [[0.6745098 , 0.52941176, 0.38823529],\n",
       "          [0.56078431, 0.43137255, 0.32941176],\n",
       "          [0.50980392, 0.21960784, 0.16470588],\n",
       "          ...,\n",
       "          [0.36862745, 0.29411765, 0.21960784],\n",
       "          [0.55294118, 0.42352941, 0.3372549 ],\n",
       "          [0.54509804, 0.41176471, 0.31764706]],\n",
       " \n",
       "         [[0.71764706, 0.57254902, 0.45882353],\n",
       "          [0.58823529, 0.4627451 , 0.37254902],\n",
       "          [0.31372549, 0.25098039, 0.17254902],\n",
       "          ...,\n",
       "          [0.31764706, 0.28235294, 0.23529412],\n",
       "          [0.52941176, 0.4627451 , 0.38431373],\n",
       "          [0.56078431, 0.49019608, 0.43137255]],\n",
       " \n",
       "         [[0.81960784, 0.68235294, 0.56470588],\n",
       "          [0.71372549, 0.59215686, 0.48235294],\n",
       "          [0.54509804, 0.42745098, 0.3254902 ],\n",
       "          ...,\n",
       "          [0.23137255, 0.21176471, 0.18431373],\n",
       "          [0.50980392, 0.46666667, 0.43529412],\n",
       "          [0.6627451 , 0.61176471, 0.62745098]]]]))"
      ]
     },
     "execution_count": 49,
     "metadata": {},
     "output_type": "execute_result"
    }
   ],
   "source": [
    "batch"
   ]
  },
  {
   "cell_type": "code",
   "execution_count": null,
   "metadata": {},
   "outputs": [],
   "source": []
  }
 ],
 "metadata": {
  "kernelspec": {
   "display_name": "Python 3",
   "language": "python",
   "name": "python3"
  },
  "language_info": {
   "codemirror_mode": {
    "name": "ipython",
    "version": 3
   },
   "file_extension": ".py",
   "mimetype": "text/x-python",
   "name": "python",
   "nbconvert_exporter": "python",
   "pygments_lexer": "ipython3",
   "version": "3.5.6"
  }
 },
 "nbformat": 4,
 "nbformat_minor": 4
}
